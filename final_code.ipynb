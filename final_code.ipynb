{
 "cells": [
  {
   "cell_type": "markdown",
   "metadata": {},
   "source": [
    "# Importing Libraries"
   ]
  },
  {
   "cell_type": "code",
   "execution_count": 1,
   "metadata": {},
   "outputs": [],
   "source": [
    "import warnings\n",
    "warnings.filterwarnings('ignore')\n",
    "import pandas as pd\n",
    "from lightfm import LightFM\n",
    "from lightfm.data import Dataset\n",
    "import numpy as np\n",
    "import random"
   ]
  },
  {
   "cell_type": "markdown",
   "metadata": {},
   "source": [
    "# Load datasets"
   ]
  },
  {
   "cell_type": "code",
   "execution_count": 2,
   "metadata": {},
   "outputs": [],
   "source": [
    "users = pd.read_csv(\"./Dataset/users.csv\")\n",
    "products = pd.read_csv(\"./Dataset/products.csv\")\n",
    "orders = pd.read_csv(\"./Dataset/orders.csv\")\n",
    "order_items = pd.read_csv(\"./Dataset/order_items.csv\")\n",
    "inventory_items = pd.read_csv('./Dataset/inventory_items.csv')\n",
    "data_path = './final_df.csv'\n",
    "data = pd.read_csv(data_path)"
   ]
  },
  {
   "cell_type": "code",
   "execution_count": 3,
   "metadata": {},
   "outputs": [],
   "source": [
    "columns_to_drop = [\n",
    "    'Unnamed: 0.1','Unnamed: 0', 'created_at_item', 'status_item', 'inventory_item_id',\n",
    "    'created_at_order', 'num_of_item', 'department', 'sku', 'distribution_center_id',\n",
    "    'id_user', 'first_name', 'last_name', 'email', 'postal_code', 'state',\n",
    "    'street_address', 'city', 'country', 'latitude_user', 'longitude_user',\n",
    "    'traffic_source_user', 'created_at_user', 'id_dist', 'dist_center_name',\n",
    "    'latitude_dist', 'longitude_dist', 'sequence_number', 'browser',\n",
    "    'traffic_source_event', 'event_type'\n",
    "]\n",
    "data.drop(columns=columns_to_drop, inplace=True, errors='ignore')\n",
    "data.drop_duplicates(keep='first', inplace=True)\n",
    "bins = [0, 18, 25, 35, 45, 55, 65, 75, 85, 95, 105]\n",
    "labels = [f'age:{i}-{j}' for i, j in zip(bins[:-1], bins[1:])]\n",
    "data['age_bin'] = pd.cut(data['age'], bins=bins, labels=labels, right=False)"
   ]
  },
  {
   "cell_type": "markdown",
   "metadata": {},
   "source": [
    "# Model"
   ]
  },
  {
   "cell_type": "code",
   "execution_count": 4,
   "metadata": {},
   "outputs": [
    {
     "data": {
      "text/plain": [
       "<lightfm.lightfm.LightFM at 0x108ea3f70>"
      ]
     },
     "execution_count": 4,
     "metadata": {},
     "output_type": "execute_result"
    }
   ],
   "source": [
    "# Prepare the interaction data\n",
    "interaction_data = data.groupby(['user_id', 'product_id']).size().reset_index(name='interaction_count')\n",
    "\n",
    "# Initialize and fit the dataset\n",
    "dataset = Dataset()\n",
    "dataset.fit((row['user_id'] for index, row in interaction_data.iterrows()),\n",
    "            (row['product_id'] for index, row in interaction_data.iterrows()))\n",
    "\n",
    "(interactions, weights) = dataset.build_interactions(((row['user_id'], row['product_id']) for index, row in interaction_data.iterrows()))\n",
    "\n",
    "# Initialize the LightFM model with the WARP loss function\n",
    "model = LightFM(loss='warp')\n",
    "\n",
    "# Train the model\n",
    "model.fit(interactions, epochs=30, num_threads=2)\n"
   ]
  },
  {
   "cell_type": "code",
   "execution_count": 5,
   "metadata": {},
   "outputs": [],
   "source": [
    "def get_preferred_brand(user_id):\n",
    "    purchased_products = order_items[order_items['user_id']==user_id]['product_id'].values\n",
    "    purchased_brands = {}\n",
    "    for i in purchased_products:\n",
    "        brand = products[products['id']==i]['brand'].values[0]\n",
    "        if brand in purchased_brands:\n",
    "            purchased_brands[brand] += 1\n",
    "        else:\n",
    "            purchased_brands[brand] = 1\n",
    "    max_value = max(purchased_brands.values())\n",
    "    max_keys = [key for key, value in purchased_brands.items() if value == max_value]\n",
    "    return random.choice(max_keys)\n",
    "\n",
    "def get_user_age_and_spending(user_id):\n",
    "    personal_records = data[data['user_id']==user_id]\n",
    "    age = personal_records['age'].values[0]\n",
    "    gender = personal_records['gender'].values[0]\n",
    "    avg_spending = personal_records['sale_price'].sum()/personal_records['sale_price'].count()\n",
    "    return age, gender, avg_spending\n",
    "\n",
    "def get_returned_products(user_id):\n",
    "    return order_items[(order_items['user_id']==user_id) & (order_items['status'].isin(['Cancelled', 'Returned']))]['product_id'].values\n",
    "\n",
    "def get_best_sellers(num_recommendations=5):\n",
    "    total_sales_per_product = order_items.groupby('product_id').size()\n",
    "    top_selling_products = total_sales_per_product.sort_values(ascending=False).head(num_recommendations)\n",
    "    return top_selling_products.index.tolist()\n",
    "\n",
    "def get_new_arrivals(num_recommendations=5):\n",
    "    inventory_data_sorted = inventory_items.sort_values(by='created_at', ascending=False)\n",
    "    return inventory_data_sorted.head(num_recommendations)['product_id'].tolist()\n",
    "\n",
    "def get_product_gender_preference(product_id):\n",
    "    gender = inventory_items[inventory_items['product_id']==product_id]['product_department'].values[0]\n",
    "    return 'M' if gender=='Men' else 'F'\n",
    "\n",
    "def get_product_brand(product_id):\n",
    "    return inventory_items[inventory_items['product_id']==product_id]['product_brand'].values[0]\n",
    "\n",
    "def get_purchased_products(user_id):\n",
    "    pur_prod = data[data.user_id == user_id]\n",
    "    return pur_prod[['name', 'product_id', 'sale_price', 'brand']], pur_prod['product_id'].values  # Ensure this is a DataFrame\n",
    "\n",
    "def get_product_price(product_id):\n",
    "    return data[data['product_id']==product_id]['sale_price'].values[0]\n",
    "\n",
    "def get_product_details_to_display(ids):\n",
    "    data_list = []\n",
    "    for id in ids:\n",
    "        prod = products[products['id']==id]\n",
    "        #status = data[data['product_id']==id]['status_item'].values[0]\n",
    "        status = order_items[order_items['product_id']==id]['status'].values[0]\n",
    "        data_f = {\n",
    "            #'Product ID': id,\n",
    "            'Name': prod['name'].values[0],\n",
    "            'Retail Price': prod['retail_price'].values[0].round(2),\n",
    "            'Brand': get_product_brand(id).title(),\n",
    "            'Gender Preference': get_product_gender_preference(id),\n",
    "            'Status': status\n",
    "        }\n",
    "        # Append the values to the list\n",
    "        data_list.append(data_f)\n",
    "        # Convert the list of dictionaries to a DataFrame\n",
    "    result_df = pd.DataFrame(data_list)\n",
    "    # Adjust index to start from 1\n",
    "    result_df.index = result_df.index + 1\n",
    "    return result_df"
   ]
  },
  {
   "cell_type": "code",
   "execution_count": 6,
   "metadata": {},
   "outputs": [],
   "source": [
    "def sample_recommendation(model, dataset, user_ids, num_recommendations=5, max_preferred_brand=3, spending_range=(0.8, 1.2)):\n",
    "    n_users, n_items = dataset.interactions_shape()\n",
    "    recommend, output = [], []\n",
    "    product_id_mapping = list(dataset.mapping()[2].keys())  # Prepare product ID mapping once\n",
    "\n",
    "    for user_id in user_ids:\n",
    "        if user_id in users['id'].values.flatten():\n",
    "            user_index = dataset.mapping()[0][user_id]\n",
    "            scores = model.predict(user_index, np.arange(n_items))\n",
    "            preferred_brand = get_preferred_brand(user_id)\n",
    "            _, gender, avg_spending = get_user_age_and_spending(user_id)  # Assuming gender is correctly retrieved here\n",
    "            returned_products = set(get_returned_products(user_id))\n",
    "            purchased_products = set(get_purchased_products(user_id))\n",
    "            \n",
    "            # Map scores to product IDs, excluding returned and purchased products\n",
    "            product_scores = {product_id_mapping[i]: scores[i] for i in range(n_items) if i not in returned_products and i not in purchased_products}\n",
    "            output.append(product_scores)  # Store product scores for output\n",
    "\n",
    "            # Create a sorted list of products based on scores, filtering by gender\n",
    "            valid_products = [\n",
    "                (prod, score) for prod, score in product_scores.items()\n",
    "                if prod not in purchased_products and get_product_gender_preference(prod) == gender\n",
    "            ]\n",
    "            valid_products.sort(key=lambda x: x[1], reverse=True)\n",
    "\n",
    "            brand_recommendations = []\n",
    "            other_recommendations = []\n",
    "\n",
    "            for prod, score in valid_products:\n",
    "                if len(brand_recommendations) + len(other_recommendations) == num_recommendations:\n",
    "                    break\n",
    "                product_price = get_product_price(prod)\n",
    "\n",
    "                if avg_spending * spending_range[0] <= product_price <= avg_spending * spending_range[1]:\n",
    "                    if get_product_brand(prod) == preferred_brand and len(brand_recommendations) < max_preferred_brand:\n",
    "                        brand_recommendations.append(prod)\n",
    "                    elif len(other_recommendations) < (num_recommendations - max_preferred_brand):\n",
    "                        other_recommendations.append(prod)\n",
    "            \n",
    "            # If there are still slots left to fill, add more from other recommendations\n",
    "            if len(brand_recommendations) + len(other_recommendations) < num_recommendations:\n",
    "                fill_count = num_recommendations - (len(brand_recommendations) + len(other_recommendations))\n",
    "                additional_products = [prod for prod, _ in valid_products if prod not in brand_recommendations and prod not in other_recommendations][:fill_count]\n",
    "                other_recommendations.extend(additional_products)\n",
    "\n",
    "            final_recommendations = brand_recommendations + other_recommendations\n",
    "            print(f\"Recommended items for user {user_id}: {final_recommendations}\")\n",
    "            recommend.append(final_recommendations)\n",
    "        else:\n",
    "            new_arrived = get_new_arrivals(num_recommendations//2+1)\n",
    "            best_seller = get_best_sellers(num_recommendations//2+1)\n",
    "            final_recommendations =  new_arrived + best_seller\n",
    "            new_user_recommendation = np.random.choice(final_recommendations, size=num_recommendations, replace=False).tolist()\n",
    "            print(f\"Recommended items for user {user_id}: {new_user_recommendation}\")\n",
    "            recommend.append(new_user_recommendation)\n",
    "\n",
    "    return recommend, output"
   ]
  },
  {
   "cell_type": "markdown",
   "metadata": {},
   "source": [
    "# Recommendation"
   ]
  },
  {
   "cell_type": "code",
   "execution_count": null,
   "metadata": {},
   "outputs": [],
   "source": [
    "sample_user_ids = [83582]#, 37023, 15553, 7815, 60193, 3095873495]\n",
    "recommend, scores = sample_recommendation(model, dataset, sample_user_ids)"
   ]
  },
  {
   "cell_type": "code",
   "execution_count": null,
   "metadata": {},
   "outputs": [],
   "source": [
    "for i, j, k in zip(sample_user_ids, recommend, scores):\n",
    "    data_list = []\n",
    "    for x in j:\n",
    "        prod = products[products['id']==x]\n",
    "        # Get the values for this iteration\n",
    "        data_f = {\n",
    "            'Name': prod['name'].values[0],\n",
    "            'Retail Price': prod['retail_price'].values[0].round(2),\n",
    "            'Brand': get_product_brand(x),\n",
    "            'Gender Preference': get_product_gender_preference(x),\n",
    "            'Product_score' : k[x]\n",
    "        }\n",
    "        data_list.append(data_f)\n",
    "    result_df = pd.DataFrame(data_list)\n",
    "    print('User ID: ',i)\n",
    "    display(result_df)\n"
   ]
  },
  {
   "cell_type": "markdown",
   "metadata": {},
   "source": [
    "# Evaluation"
   ]
  },
  {
   "cell_type": "code",
   "execution_count": null,
   "metadata": {},
   "outputs": [],
   "source": [
    "for i, j in zip(sample_user_ids, recommend):\n",
    "    print('User ID: ',i,'Recommended Product IDs: ',j)\n",
    "    if i in users['id'].values:\n",
    "        user_detail = users[users['id']==i]\n",
    "        print('Customer Name: ',(user_detail['first_name'].values+' '+user_detail['last_name'].values)[0])\n",
    "        detail = get_user_age_and_spending(i)\n",
    "        print(f'Age: {detail[0]} Gender: {detail[1]}    Average Spending: {detail[2]}')\n",
    "        print('Preferred Brand: ',get_preferred_brand(i).title())\n",
    "        pur_prod = data[data.user_id==i]\n",
    "        print('Bought Products:')\n",
    "        result_df = pd.DataFrame(pur_prod[['name', 'product_id','sale_price','brand']])\n",
    "        result_df.reset_index(drop=True, inplace=True)\n",
    "        display(result_df)\n",
    "    else:\n",
    "        print('New Customer: No details')\n",
    "    print('\\nRecommended Products:')\n",
    "    data_list = []\n",
    "\n",
    "    # Iterate over each value of k\n",
    "    for k in j:\n",
    "        prod = products[products['id']==k]\n",
    "        data_f = {\n",
    "            'Name': prod['name'].values[0],\n",
    "            'Retail Price': prod['retail_price'].values[0].round(2),\n",
    "            'Brand': get_product_brand(k),\n",
    "            'Gender Preference': get_product_gender_preference(k)\n",
    "        }\n",
    "        # Append the values to the list\n",
    "        data_list.append(data_f)\n",
    "        # Convert the list of dictionaries to a DataFrame\n",
    "    result_df = pd.DataFrame(data_list)\n",
    "    display(result_df)"
   ]
  },
  {
   "cell_type": "code",
   "execution_count": null,
   "metadata": {},
   "outputs": [],
   "source": [
    "data['status_item'].value_counts()"
   ]
  },
  {
   "cell_type": "code",
   "execution_count": null,
   "metadata": {},
   "outputs": [],
   "source": [
    "data.columns"
   ]
  },
  {
   "cell_type": "code",
   "execution_count": null,
   "metadata": {},
   "outputs": [],
   "source": [
    "status_counts = data.groupby(['user_id', 'status_item']).size().unstack(fill_value=0)\n",
    "\n",
    "# Define the statuses we are interested in\n",
    "statuses_of_interest = ['Cancelled', 'Complete']  # Adjust as necessary for your data\n",
    "\n",
    "# Check if these statuses exist in the data and create the total_required column only if they do\n",
    "if all(status in status_counts.columns for status in statuses_of_interest):\n",
    "    status_counts['total_required'] = status_counts[statuses_of_interest].sum(axis=1)\n",
    "    # Optional: Show user_ids with the highest total of specific statuses\n",
    "    max_user_id = status_counts['total_required'].idxmax()\n",
    "    print(f\"User ID with the highest total of 'Cancelled' and 'Completed' statuses: {max_user_id}\")\n",
    "else:\n",
    "    print(\"One or more specified statuses do not exist in the data. Please check your status names.\")\n",
    "\n",
    "# Display the DataFrame with the 'total_required' column if it exists\n",
    "if 'total_required' in status_counts.columns:\n",
    "    print(status_counts[['total_required'] + statuses_of_interest])\n",
    "else:\n",
    "    print(status_counts[statuses_of_interest])\n"
   ]
  },
  {
   "cell_type": "code",
   "execution_count": null,
   "metadata": {},
   "outputs": [],
   "source": [
    "status_counts = order_items.groupby(['user_id', 'status']).size().unstack(fill_value=0)\n",
    "\n",
    "# Define the statuses we are interested in\n",
    "statuses_of_interest = ['Shipped', 'Complete', 'Processing']  # Adjust as necessary for your data\n",
    "\n",
    "# Check if these statuses exist in the data and create the total_required column only if they do\n",
    "if all(status in status_counts.columns for status in statuses_of_interest):\n",
    "    status_counts['total_required'] = status_counts[statuses_of_interest].sum(axis=1)\n",
    "else:\n",
    "    print(\"One or more specified statuses do not exist in the data. Please check your status names.\")\n",
    "\n",
    "# Sort the DataFrame by the 'total_required' column, descending order\n",
    "sorted_status_counts = status_counts.sort_values(by='total_required', ascending=False)\n",
    "\n",
    "# Display the sorted DataFrame\n",
    "print(sorted_status_counts[['total_required'] + statuses_of_interest])\n"
   ]
  },
  {
   "cell_type": "code",
   "execution_count": null,
   "metadata": {},
   "outputs": [],
   "source": [
    "order_items['user_id'].value_counts()"
   ]
  }
 ],
 "metadata": {
  "kernelspec": {
   "display_name": "capstone",
   "language": "python",
   "name": "python3"
  },
  "language_info": {
   "codemirror_mode": {
    "name": "ipython",
    "version": 3
   },
   "file_extension": ".py",
   "mimetype": "text/x-python",
   "name": "python",
   "nbconvert_exporter": "python",
   "pygments_lexer": "ipython3",
   "version": "3.10.0"
  }
 },
 "nbformat": 4,
 "nbformat_minor": 2
}
